{
 "cells": [
  {
   "cell_type": "markdown",
   "metadata": {},
   "source": [
    "# How can we make custom http calls and get JSON using Graph SDK v5 (HttpClient)\n",
    "\n",
    "Below code is not executable by its own. It require methods to get the `GraphServiceClient` and the `IConfigurationRoot`"
   ]
  },
  {
   "cell_type": "code",
   "execution_count": null,
   "metadata": {
    "dotnet_interactive": {
     "language": "csharp"
    },
    "polyglot_notebook": {
     "kernelName": "csharp"
    },
    "vscode": {
     "languageId": "csharp"
    }
   },
   "outputs": [],
   "source": [
    "class MyDrive\n",
    "{\n",
    "    [JsonPropertyName(\"name\")]\n",
    "    public string Name { get; set; }\n",
    "    [JsonPropertyName(\"id\")]\n",
    "    public string Id { get; set; }\n",
    "}"
   ]
  },
  {
   "cell_type": "code",
   "execution_count": null,
   "metadata": {
    "dotnet_interactive": {
     "language": "csharp"
    },
    "polyglot_notebook": {
     "kernelName": "csharp"
    },
    "vscode": {
     "languageId": "polyglot-notebook"
    }
   },
   "outputs": [],
   "source": [
    "//Arrange\n",
    "GraphServiceClient graphServiceClient = GraphServiceClientFactory.GetGraphServiceClientAsync();\n",
    "IConfigurationRoot config = ConfigProvider.GetConfigRoot();\n",
    "string driveId = config[\"DriveId\"];\n",
    "\n",
    "RequestInformation driveReqInfo = new() { URI = new Uri($\"https://graph.microsoft.com/v1.0/drives/{driveId}\") };\n",
    "var baseGraphRequestAdapter = graphServiceClient.RequestAdapter as BaseGraphRequestAdapter;\n",
    "var request = await baseGraphRequestAdapter.ConvertToNativeRequestAsync<HttpRequestMessage>(driveReqInfo);\n",
    "\n",
    "//Act\n",
    "var response = await new HttpClient().SendAsync(request);\n",
    "string rawJSONResponse = await response?.Content?.ReadAsStringAsync();\n",
    "MyDrive myDrive = JsonSerializer.Deserialize<MyDrive>(rawJSONResponse);\n",
    "\n",
    "//Assert\n",
    "Assert.IsNotNull(rawJSONResponse);\n",
    "Assert.AreEqual(66, myDrive.Id.Length, \"Length of Graph Id of drive is not 66\");"
   ]
  },
  {
   "cell_type": "markdown",
   "metadata": {},
   "source": [
    "> If someone had changed the `GraphServiceClient.RequestAdapter` to Non HttpClient, the behavior will change"
   ]
  }
 ],
 "metadata": {
  "language_info": {
   "name": "python"
  }
 },
 "nbformat": 4,
 "nbformat_minor": 2
}
