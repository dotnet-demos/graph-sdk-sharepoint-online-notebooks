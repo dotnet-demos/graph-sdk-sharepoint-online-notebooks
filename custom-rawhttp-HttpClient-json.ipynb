{
 "cells": [
  {
   "cell_type": "markdown",
   "metadata": {},
   "source": [
    "# How can we make custom http calls and get JSON using Graph SDK v5 (HttpClient)\n",
    "\n",
    "Below code is not executable by its own. It require methods to get the `GraphServiceClient` and the `IConfigurationRoot`"
   ]
  },
  {
   "cell_type": "code",
   "execution_count": 1,
   "metadata": {
    "dotnet_interactive": {
     "language": "csharp"
    },
    "polyglot_notebook": {
     "kernelName": "csharp"
    },
    "vscode": {
     "languageId": "csharp"
    }
   },
   "outputs": [
    {
     "data": {
      "text/html": [
       "<div class=\"dni-plaintext\"><pre>66</pre></div><style>\r\n",
       ".dni-code-hint {\r\n",
       "    font-style: italic;\r\n",
       "    overflow: hidden;\r\n",
       "    white-space: nowrap;\r\n",
       "}\r\n",
       ".dni-treeview {\r\n",
       "    white-space: nowrap;\r\n",
       "}\r\n",
       ".dni-treeview td {\r\n",
       "    vertical-align: top;\r\n",
       "    text-align: start;\r\n",
       "}\r\n",
       "details.dni-treeview {\r\n",
       "    padding-left: 1em;\r\n",
       "}\r\n",
       "table td {\r\n",
       "    text-align: start;\r\n",
       "}\r\n",
       "table tr { \r\n",
       "    vertical-align: top; \r\n",
       "    margin: 0em 0px;\r\n",
       "}\r\n",
       "table tr td pre \r\n",
       "{ \r\n",
       "    vertical-align: top !important; \r\n",
       "    margin: 0em 0px !important;\r\n",
       "} \r\n",
       "table th {\r\n",
       "    text-align: start;\r\n",
       "}\r\n",
       "</style>"
      ]
     },
     "metadata": {},
     "output_type": "display_data"
    }
   ],
   "source": [
    "class MyDrive\n",
    "{\n",
    "    [JsonPropertyName(\"name\")]\n",
    "    public string Name { get; set; }\n",
    "    [JsonPropertyName(\"id\")]\n",
    "    public string Id { get; set; }\n",
    "}"
   ]
  },
  {
   "cell_type": "code",
   "execution_count": null,
   "metadata": {
    "dotnet_interactive": {
     "language": "csharp"
    },
    "polyglot_notebook": {
     "kernelName": "csharp"
    },
    "vscode": {
     "languageId": "polyglot-notebook"
    }
   },
   "outputs": [],
   "source": [
    "//Arrange\n",
    "GraphServiceClient graphServiceClient = GraphServiceClientFactory.GetGraphServiceClientAsync();\n",
    "IConfigurationRoot config = ConfigProvider.GetConfigRoot();\n",
    "string driveId = config[\"DriveId\"];\n",
    "\n",
    "RequestInformation driveReqInfo = new() { URI = new Uri($\"https://graph.microsoft.com/v1.0/drives/{driveId}\") };\n",
    "var baseGraphRequestAdapter = graphServiceClient.RequestAdapter as BaseGraphRequestAdapter;\n",
    "var request = await baseGraphRequestAdapter.ConvertToNativeRequestAsync<HttpRequestMessage>(driveReqInfo);\n",
    "\n",
    "//Act\n",
    "var response = await new HttpClient().SendAsync(request);\n",
    "string rawJSONResponse = await response?.Content?.ReadAsStringAsync();\n",
    "MyDrive myDrive = JsonSerializer.Deserialize<MyDrive>(rawJSONResponse);\n",
    "\n",
    "//Assert\n",
    "Assert.IsNotNull(rawJSONResponse);\n",
    "Assert.AreEqual(66, myDrive.Id.Length, \"Length of Graph Id of drive is not 66\");"
   ]
  },
  {
   "cell_type": "markdown",
   "metadata": {},
   "source": [
    "> If someone changed the `GraphServiceClient.RequestAdapter` to Non HttpClint, the behavior will change"
   ]
  }
 ],
 "metadata": {
  "language_info": {
   "name": "python"
  }
 },
 "nbformat": 4,
 "nbformat_minor": 2
}
