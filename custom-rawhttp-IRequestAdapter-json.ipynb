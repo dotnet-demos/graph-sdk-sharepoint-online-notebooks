{
 "cells": [
  {
   "cell_type": "markdown",
   "metadata": {},
   "source": [
    "# How can we make custom http calls and get JSON using Graph SDK v5 (IRequestAdapter)\n",
    "\n",
    "Below code is not executable by its own. It require methods to get the `GraphServiceClient` and the `IConfigurationRoot`"
   ]
  },
  {
   "cell_type": "code",
   "execution_count": null,
   "metadata": {
    "dotnet_interactive": {
     "language": "csharp"
    },
    "polyglot_notebook": {
     "kernelName": "csharp"
    },
    "vscode": {
     "languageId": "csharp"
    }
   },
   "outputs": [],
   "source": [
    "class MyDrive\n",
    "{\n",
    "    [JsonPropertyName(\"name\")]\n",
    "    public string Name { get; set; }\n",
    "    [JsonPropertyName(\"id\")]\n",
    "    public string Id { get; set; }\n",
    "}"
   ]
  },
  {
   "cell_type": "code",
   "execution_count": null,
   "metadata": {
    "dotnet_interactive": {
     "language": "csharp"
    },
    "polyglot_notebook": {
     "kernelName": "csharp"
    },
    "vscode": {
     "languageId": "polyglot-notebook"
    }
   },
   "outputs": [],
   "source": [
    "//Arrange\n",
    "GraphServiceClient graphServiceClient = GraphServiceClientFactory.GetGraphServiceClientAsync();\n",
    "IConfigurationRoot config = ConfigProvider.GetConfigRoot();\n",
    "string driveId = config[\"DriveId\"];\n",
    "RequestInformation driveReqInfo = new() { URI = new Uri($\"https://graph.microsoft.com/v1.0/drives/{driveId}\")};\n",
    "\n",
    "IRequestAdapter adp = graphServiceClient.RequestAdapter;\n",
    "var nativeHandler = new NativeResponseHandler();\n",
    "driveReqInfo.SetResponseHandler(nativeHandler);\n",
    "\n",
    "//Act\n",
    "// Giving a dummy object to deserialize\n",
    "var baseItem = await adp.SendAsync<BaseItem>(driveReqInfo, (parsable) => null);\n",
    "var response = nativeHandler.Value as HttpResponseMessage;\n",
    "string rawJSONResponse = await response?.Content?.ReadAsStringAsync();\n",
    "MyDrive myDrive= JsonSerializer.Deserialize<MyDrive>(rawJSONResponse);\n",
    "\n",
    "//Assert\n",
    "Assert.IsInstanceOfType(response, typeof(HttpResponseMessage));\n",
    "Assert.IsNotNull(rawJSONResponse);\n",
    "Assert.AreEqual(66, myDrive.Id.Length, \"Length of Graph Id of drive is not 66\");"
   ]
  }
 ],
 "metadata": {
  "language_info": {
   "name": "python"
  }
 },
 "nbformat": 4,
 "nbformat_minor": 2
}
