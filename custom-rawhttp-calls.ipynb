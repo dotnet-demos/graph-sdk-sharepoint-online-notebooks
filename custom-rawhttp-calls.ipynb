{
 "cells": [
  {
   "cell_type": "markdown",
   "metadata": {},
   "source": [
    "# Showing how can we make custom http calls using Graph SDK v5\n",
    "\n",
    "Below code is not executable by its own. It require methods to get the GraphserviceClient and the configuration"
   ]
  },
  {
   "cell_type": "code",
   "execution_count": null,
   "metadata": {
    "dotnet_interactive": {
     "language": "csharp"
    },
    "polyglot_notebook": {
     "kernelName": "csharp"
    },
    "vscode": {
     "languageId": "polyglot-notebook"
    }
   },
   "outputs": [],
   "source": [
    "GraphServiceClient graphServiceClient = GraphServiceClientFactory.GetGraphServiceClientAsync();\n",
    "IConfigurationRoot config = ConfigProvider.GetConfigRoot();\n",
    "string driveId = config[\"DriveId\"];\n",
    "RequestInformation driveReqInfo = new RequestInformation();\n",
    "driveReqInfo.URI = new Uri($\"https://graph.microsoft.com/v1.0/drives/{driveId}\");\n",
    "driveReqInfo.HttpMethod = Method.GET;\n",
    "IRequestAdapter adp = graphServiceClient.RequestAdapter;\n",
    "\n",
    "var drive = await adp.SendAsync<Drive>(driveReqInfo, (parsable) =>\n",
    "            {\n",
    "                return Drive.CreateFromDiscriminatorValue(parsable);\n",
    "            });"
   ]
  }
 ],
 "metadata": {
  "language_info": {
   "name": "python"
  }
 },
 "nbformat": 4,
 "nbformat_minor": 2
}
